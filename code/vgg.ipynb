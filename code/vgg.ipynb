{
 "cells": [
  {
   "cell_type": "markdown",
   "metadata": {},
   "source": [
    "# VGG\n",
    "\n",
    "## VGG块\n",
    "\n",
    "VGG块与经典卷积神经网络一样，由一系列卷积层、激活函数和汇聚层组成，每一个VGG块只有卷积层个数、输入通道数和输出通道数不一样，所以，一个VGG块可以定义为："
   ]
  },
  {
   "cell_type": "code",
   "execution_count": 10,
   "metadata": {},
   "outputs": [],
   "source": [
    "import torch\n",
    "import torch.nn as nn\n",
    "\n",
    "\n",
    "def vgg_block(num_convs, in_channels, out_channels):\n",
    "    layers = []\n",
    "    for _ in range(num_convs):\n",
    "        layers.append(nn.Conv2d(in_channels, out_channels, kernel_size=3, padding=1))\n",
    "        layers.append(nn.ReLU())\n",
    "        in_channels = out_channels\n",
    "    layers.append(nn.MaxPool2d(kernel_size=2, stride=2))\n",
    "    return nn.Sequential(*layers)"
   ]
  },
  {
   "cell_type": "markdown",
   "metadata": {},
   "source": [
    "VGG神经网络就是由多个不同卷积层个数、输入通道数和输出通道数的VGG块共同组成卷积层，最后再连接3个全连接层组成整个神经网络，其[架构](../image/vgg.png)如图所示：\n",
    "<div align=\"center\">\n",
    "<img src = \"https://s2.loli.net/2022/04/12/lr2zdoiLY5qActh.png\" width = \"35%\">\n",
    "<br>AlexNet架构图（左）VGG块（中） VGG架构图（右）\n",
    "</div>\n",
    "\n",
    "基于pytorch实现AlexNet网络的模型搭建如下：\n",
    "\n",
    "## 模型建立\n"
   ]
  },
  {
   "cell_type": "code",
   "execution_count": 11,
   "metadata": {},
   "outputs": [],
   "source": [
    "def vggnet(conv, num_classes):\n",
    "    conv_layers = []\n",
    "    in_channels = 1\n",
    "    # 调用VGG块定义卷积层模块\n",
    "    for (num_convs, out_channels) in conv:\n",
    "        conv_layers.append(vgg_block(num_convs, in_channels, out_channels))\n",
    "        in_channels = out_channels\n",
    "\n",
    "    net_vgg = nn.Sequential(\n",
    "        *conv_layers,\n",
    "        nn.Flatten(),\n",
    "        nn.Linear(out_channels * 7 * 7, 4096),\n",
    "        nn.ReLU(),\n",
    "        nn.Dropout(p=0.5),\n",
    "        nn.Linear(4096, 4096),\n",
    "        nn.ReLU(),\n",
    "        nn.Dropout(p=0.5),\n",
    "        nn.Linear(4096, num_classes),\n",
    "        )\n",
    "    return net_vgg"
   ]
  },
  {
   "cell_type": "code",
   "execution_count": 12,
   "metadata": {},
   "outputs": [],
   "source": [
    "conv11 = ((1, 64), (1, 128), (2, 256), (2, 512), (2, 512)) # VGG_11\n",
    "conv13 = ((2, 64), (2, 128), (2, 256), (2, 512), (2, 512)) # VGG_13\n",
    "conv16 = ((2, 64), (2, 128), (3, 256), (3, 512), (3, 512)) # VGG_16\n",
    "conv19 = ((2, 64), (2, 128), (4, 256), (4, 512), (4, 512)) # VGG_19\n",
    "num_classes = 1000\n",
    "\n",
    "net = vggnet(conv16, num_classes)"
   ]
  },
  {
   "cell_type": "markdown",
   "metadata": {},
   "source": [
    "## 模型检验\n",
    "\n",
    "构建一个高度和宽度为224的单通道数据样本，观察每个层输出的形状"
   ]
  },
  {
   "cell_type": "code",
   "execution_count": 13,
   "metadata": {},
   "outputs": [
    {
     "name": "stdout",
     "output_type": "stream",
     "text": [
      "Sequential output shape: \t torch.Size([1, 64, 112, 112])\n",
      "Sequential output shape: \t torch.Size([1, 128, 56, 56])\n",
      "Sequential output shape: \t torch.Size([1, 256, 28, 28])\n",
      "Sequential output shape: \t torch.Size([1, 512, 14, 14])\n",
      "Sequential output shape: \t torch.Size([1, 512, 7, 7])\n",
      "Flatten output shape: \t torch.Size([1, 25088])\n",
      "Linear output shape: \t torch.Size([1, 4096])\n",
      "ReLU output shape: \t torch.Size([1, 4096])\n",
      "Dropout output shape: \t torch.Size([1, 4096])\n",
      "Linear output shape: \t torch.Size([1, 4096])\n",
      "ReLU output shape: \t torch.Size([1, 4096])\n",
      "Dropout output shape: \t torch.Size([1, 4096])\n",
      "Linear output shape: \t torch.Size([1, 1000])\n"
     ]
    }
   ],
   "source": [
    "X = torch.randn(size=(1, 1, 224, 224))\n",
    "for layer in net:\n",
    "    X = layer(X)\n",
    "    print(layer.__class__.__name__,'output shape: \\t',X.shape)"
   ]
  },
  {
   "cell_type": "markdown",
   "metadata": {},
   "source": [
    "在经过每一个VGG块后，图像高宽减半，通道数增加。从上面四个VGG模型可以看到，无论是VGG多少，都有5个VGG模块，而且这五个模块仅仅是num_convs不一样，每一个模块对应的out_channels是一样的。"
   ]
  },
  {
   "cell_type": "markdown",
   "metadata": {},
   "source": [
    "由于VGG所含有的卷积层更多，网络更深，所以计算量比AlexNet更大，计算也慢很多。"
   ]
  },
  {
   "cell_type": "markdown",
   "metadata": {},
   "source": [
    "## 模型训练\n",
    "*后补*"
   ]
  },
  {
   "cell_type": "markdown",
   "metadata": {},
   "source": [
    "## 模型测试\n",
    "*后补*"
   ]
  },
  {
   "cell_type": "markdown",
   "metadata": {},
   "source": []
  }
 ],
 "metadata": {
  "kernelspec": {
   "display_name": "pytorch",
   "language": "python",
   "name": "pytorch"
  },
  "language_info": {
   "codemirror_mode": {
    "name": "ipython",
    "version": 3
   },
   "file_extension": ".py",
   "mimetype": "text/x-python",
   "name": "python",
   "nbconvert_exporter": "python",
   "pygments_lexer": "ipython3",
   "version": "3.9.0"
  },
  "orig_nbformat": 4
 },
 "nbformat": 4,
 "nbformat_minor": 2
}
