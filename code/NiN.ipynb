{
 "cells": [
  {
   "cell_type": "markdown",
   "metadata": {},
   "source": [
    "# NiN\n",
    "\n",
    "## NiN块\n",
    "\n",
    "NiN块以⼀个普通卷积层开始，后⾯是两个$1 \\times 1$的卷积层。这两个$1 \\times 1$卷积层充当带有ReLU激活函数的逐像素全连接层。第⼀层的卷积窗口形状通常由⽤⼾\n",
    "设置，随后的卷积窗口形状固定为$1 \\times 1$。\n",
    "\n",
    "\n",
    "所以NiN块可以定义为："
   ]
  },
  {
   "cell_type": "code",
   "execution_count": 1,
   "metadata": {},
   "outputs": [],
   "source": [
    "import torch\n",
    "import torch.nn as nn\n",
    "\n",
    "def nin(in_channels, out_channels, kernel_size, strides, padding):\n",
    "    nin_block = nn.Sequential(\n",
    "        nn.Conv2d(in_channels, out_channels, kernel_size, strides, padding),\n",
    "        nn.ReLU(),\n",
    "        nn.Conv2d(out_channels, out_channels, kernel_size=1),\n",
    "        nn.ReLU(),\n",
    "        nn.Conv2d(out_channels, out_channels, kernel_size=1),\n",
    "        nn.ReLU())\n",
    "    return nin_block"
   ]
  },
  {
   "cell_type": "markdown",
   "metadata": {},
   "source": [
    "NiN块和NiN的[架构](../image/NiN.png)如下：\n",
    "<div align=\"center\">\n",
    "<img src = \"https://s2.loli.net/2022/04/12/MrzfdjGgRYlWV7k.png\" width=\"50%\">\n",
    "<br>VGG块及其网络架构（左）NiN块及其网络架构（右）\n",
    "</div>"
   ]
  },
  {
   "cell_type": "markdown",
   "metadata": {},
   "source": [
    "基于pytorch实现NiN网络的模型搭建如下："
   ]
  },
  {
   "cell_type": "code",
   "execution_count": 2,
   "metadata": {},
   "outputs": [],
   "source": [
    "in_channels = 1\n",
    "num_classes = 10\n",
    "\n",
    "nin_net = nn.Sequential(\n",
    "    nin(in_channels, 96, kernel_size=11, strides=4, padding=0),\n",
    "    nn.MaxPool2d(kernel_size=3, stride=2),\n",
    "    nin(96, 256, kernel_size=5, strides=1, padding=2),\n",
    "    nn.MaxPool2d(kernel_size=3, stride=2),\n",
    "    nin(256, 384, kernel_size=3, strides=1, padding=1),\n",
    "    nn.MaxPool2d(kernel_size=3, stride=2),\n",
    "    nn.Dropout(p=0.5),\n",
    "    nin(384, num_classes, kernel_size=3, strides=1, padding=1),\n",
    "    nn.AdaptiveAvgPool2d((1, 1)),\n",
    "    nn.Flatten())"
   ]
  },
  {
   "cell_type": "code",
   "execution_count": 3,
   "metadata": {},
   "outputs": [
    {
     "name": "stdout",
     "output_type": "stream",
     "text": [
      "Sequential output shape: \t torch.Size([1, 96, 54, 54])\n",
      "MaxPool2d output shape: \t torch.Size([1, 96, 26, 26])\n",
      "Sequential output shape: \t torch.Size([1, 256, 26, 26])\n",
      "MaxPool2d output shape: \t torch.Size([1, 256, 12, 12])\n",
      "Sequential output shape: \t torch.Size([1, 384, 12, 12])\n",
      "MaxPool2d output shape: \t torch.Size([1, 384, 5, 5])\n",
      "Dropout output shape: \t torch.Size([1, 384, 5, 5])\n",
      "Sequential output shape: \t torch.Size([1, 10, 5, 5])\n",
      "AdaptiveAvgPool2d output shape: \t torch.Size([1, 10, 1, 1])\n",
      "Flatten output shape: \t torch.Size([1, 10])\n"
     ]
    }
   ],
   "source": [
    "X = torch.randn(size=(in_channels, 1, 224, 224))\n",
    "net = nin_net\n",
    "for layer in net:\n",
    "    X = layer(X)\n",
    "    print(layer.__class__.__name__,'output shape: \\t',X.shape)"
   ]
  },
  {
   "cell_type": "markdown",
   "metadata": {},
   "source": [
    "NiN使用分别使用了$11\\times 11$、$5\\times 5$和$3\\times 3$的卷积核。每个NiN块后有一个最大池化层，核为$3\\times 3$，步幅为2。\n",
    "\n",
    "NiN和AlexNet之间的一个显著区别是NiN完全取消了全连接层。NiN使用的是一个NiN块，其输出通道数等于标签类别的数量。最后放一个*全局平均汇聚层*，生成一个*对数几率*。\n",
    "\n",
    "NiN设计的一个优点是，它显著减少了模型所需参数的数量，但是有时会增加训练模型的时间。\n"
   ]
  },
  {
   "cell_type": "markdown",
   "metadata": {},
   "source": [
    "## 模型训练\n",
    "*后补*"
   ]
  },
  {
   "cell_type": "markdown",
   "metadata": {},
   "source": [
    "## 模型测试\n",
    "*后补*"
   ]
  }
 ],
 "metadata": {
  "kernelspec": {
   "display_name": "pytorch",
   "language": "python",
   "name": "pytorch"
  },
  "language_info": {
   "codemirror_mode": {
    "name": "ipython",
    "version": 3
   },
   "file_extension": ".py",
   "mimetype": "text/x-python",
   "name": "python",
   "nbconvert_exporter": "python",
   "pygments_lexer": "ipython3",
   "version": "3.9.0"
  },
  "orig_nbformat": 4
 },
 "nbformat": 4,
 "nbformat_minor": 2
}
