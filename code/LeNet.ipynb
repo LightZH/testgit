{
 "cells": [
  {
   "cell_type": "markdown",
   "metadata": {},
   "source": [
    "# LeNet \n",
    "LeNet由2个卷积层和3个全连接层组成，每个卷积层之后有一个Sigmoid激活函数和一个AvgPool2d平均汇聚层，前两层全连接层之后也有一个Sigmoid激活函数。\n",
    "具体[模型](../image/LeNet.png)[架构](../image/LeNetsim.jpg)如图：\n",
    "<div align=\"center\">\n",
    "<img src=\"https://s2.loli.net/2022/04/12/gbHLmzsX6plwTN3.png\" width=\"65%\">\n",
    "<br>LeNet模型图\n",
    "</div>"
   ]
  },
  {
   "cell_type": "markdown",
   "metadata": {},
   "source": [
    "<div align=\"center\">\n",
    "<img src=\"https://s2.loli.net/2022/04/12/o8GwAdvHScxPang.jpg\" width=\"20%\">\n",
    "<br>LeNet网络架构图\n",
    "</div>"
   ]
  },
  {
   "cell_type": "markdown",
   "metadata": {},
   "source": [
    "基于pytorch实现LeNet网络的模型搭建如下："
   ]
  },
  {
   "cell_type": "markdown",
   "metadata": {},
   "source": [
    "## 模型建立"
   ]
  },
  {
   "cell_type": "code",
   "execution_count": 12,
   "metadata": {},
   "outputs": [],
   "source": [
    "import torch\n",
    "import torch.nn as nn\n",
    "import torch.nn.functional as F\n",
    "\n",
    "\n",
    "class LeNet(nn.Module):\n",
    "    def __init__(self, in_channels, num_classes):\n",
    "        super(LeNet, self).__init__()\n",
    "        \"\"\"\n",
    "        num_classes:分类的数量\n",
    "        in_channels:原始图像通道数,灰度图像为1,彩色图像为3\n",
    "        \"\"\"\n",
    "        self.num_classes = num_classes\n",
    "        self.lenet = nn.Sequential(\n",
    "            nn.Conv2d(in_channels, 6, kernel_size=5),  # (32 - 5) / 1 + 1 = 28   [3, 32, 32] -> [6, 28, 28]\n",
    "            nn.Sigmoid(),\n",
    "            nn.AvgPool2d(kernel_size=2, stride=2),  # 28 / 2 = 14   [6, 28, 28] -> [6, 14, 14]\n",
    "            nn.Conv2d(6, 16, kernel_size=5),  # (14 - 5) / 1 + 1 = 10   [6, 14, 14] -> [16, 10, 10]\n",
    "            nn.Sigmoid(),\n",
    "            nn.AvgPool2d(kernel_size=2, stride=2), # 10 / 2 = 5   [16, 10, 10] -> [16, 5, 5]\n",
    "            nn.Flatten(), # 展平\n",
    "            nn.Linear(16 * 5 * 5, 120),\n",
    "            nn.Sigmoid(),\n",
    "            nn.Linear(120, 84),\n",
    "            nn.Sigmoid(),\n",
    "            nn.Linear(84, num_classes)) # 不需要使用激活函数，因为softmax激活函数被嵌入在交叉熵函数中\n",
    "\n",
    "    def forward(self, x):\n",
    "        output = self.lenet(x)\n",
    "        # probas = F.softmax(output, dim=1)\n",
    "        return output #, probas"
   ]
  },
  {
   "cell_type": "markdown",
   "metadata": {},
   "source": [
    "## 模型检验\n",
    "打印出各层的参数"
   ]
  },
  {
   "cell_type": "code",
   "execution_count": 13,
   "metadata": {},
   "outputs": [
    {
     "name": "stdout",
     "output_type": "stream",
     "text": [
      "Conv2d output shape: \t torch.Size([1, 6, 28, 28])\n",
      "Sigmoid output shape: \t torch.Size([1, 6, 28, 28])\n",
      "AvgPool2d output shape: \t torch.Size([1, 6, 14, 14])\n",
      "Conv2d output shape: \t torch.Size([1, 16, 10, 10])\n",
      "Sigmoid output shape: \t torch.Size([1, 16, 10, 10])\n",
      "AvgPool2d output shape: \t torch.Size([1, 16, 5, 5])\n",
      "Flatten output shape: \t torch.Size([1, 400])\n",
      "Linear output shape: \t torch.Size([1, 120])\n",
      "Sigmoid output shape: \t torch.Size([1, 120])\n",
      "Linear output shape: \t torch.Size([1, 84])\n",
      "Sigmoid output shape: \t torch.Size([1, 84])\n",
      "Linear output shape: \t torch.Size([1, 10])\n"
     ]
    }
   ],
   "source": [
    "num_classes = 10\n",
    "in_channels = 3\n",
    "X = torch.rand(size=(1, in_channels, 32, 32), dtype=torch.float32)\n",
    "net = LeNet(in_channels, num_classes)\n",
    "for layer in net.lenet:\n",
    "  X = layer(X)\n",
    "  print(layer.__class__.__name__,'output shape: \\t',X.shape)"
   ]
  },
  {
   "cell_type": "markdown",
   "metadata": {},
   "source": [
    "## 模型训练\n",
    "\n",
    "*后补*"
   ]
  },
  {
   "cell_type": "markdown",
   "metadata": {},
   "source": [
    "## 模型检测\n",
    "*后补*"
   ]
  },
  {
   "cell_type": "markdown",
   "metadata": {},
   "source": []
  }
 ],
 "metadata": {
  "kernelspec": {
   "display_name": "pytorch",
   "language": "python",
   "name": "pytorch"
  },
  "language_info": {
   "codemirror_mode": {
    "name": "ipython",
    "version": 3
   },
   "file_extension": ".py",
   "mimetype": "text/x-python",
   "name": "python",
   "nbconvert_exporter": "python",
   "pygments_lexer": "ipython3",
   "version": "3.9.0"
  },
  "orig_nbformat": 4
 },
 "nbformat": 4,
 "nbformat_minor": 2
}
